{
 "cells": [
  {
   "cell_type": "code",
   "execution_count": null,
   "id": "b8446488",
   "metadata": {},
   "outputs": [],
   "source": "import arcs_funcs\nimport pandas as pd\nimport matplotlib.pyplot as plt\nfrom matplotlib.gridspec import GridSpec\nfrom ipywidgets import interact, IntSlider, Dropdown\n\nvariables = ['hits', 'damage', 'building_hits', 'keys']\n\ndef dashboard(skirmish_dice, assault_dice, raid_dice, xaxis, yaxis):\n\t# Compute full joint probability table\n\tdf = arcs_funcs.get_joint_prob_table(\n\t\tskirmish_dice_count=skirmish_dice,\n\t\tassault_dice_count=assault_dice,\n\t\traid_dice_count=raid_dice\n\t)\n\n\t# Prepare heatmap data\n\tpivot = df.pivot_table(index=yaxis, columns=xaxis, values='prob', aggfunc='sum', fill_value=0)\n\tx = pivot.columns\n\ty = pivot.index\n\tz = pivot.values\n\n\t# --- Figure and layout ---\n\tfig = plt.figure(figsize=(13, 11))\n\tgs = GridSpec(3, 4, figure=fig)  # 3 rows, 4 cols\n\n\t# Large heatmap (top, spans all 4 columns)\n\tax_hm = fig.add_subplot(gs[0, :])\n\tcax = ax_hm.imshow(z, aspect='auto', origin='upper', \n\t                   cmap='viridis', \n\t                   extent=[x[0]-0.5, x[-1]+0.5, y[-1]+0.5, y[0]-0.5])\n\tfor i in range(len(y)):\n\t\tfor j in range(len(x)):\n\t\t\tax_hm.text(x[j], y[i], f\"{z[i, j]:.2f}\", ha='center', va='center', color='w', fontsize=8)\n\tax_hm.set_xticks(x)\n\tax_hm.set_yticks(y)\n\tax_hm.set_xlabel(xaxis.capitalize())\n\tax_hm.set_ylabel(yaxis.capitalize())\n\tax_hm.set_title(f\"Probability Heatmap: {xaxis.capitalize()} vs {yaxis.capitalize()}\")\n\tax_hm.invert_yaxis()\n\tfig.colorbar(cax, ax=ax_hm, label='Probability', fraction=0.035, pad=0.03)\n\n\t# --- Marginals: 2nd and 3rd rows, 2 per row ---\n\tfor idx, var in enumerate(variables):\n\t\trow = 1 + idx // 2\n\t\tcol = idx % 2\n\t\tax = fig.add_subplot(gs[row, col*2:(col+1)*2])\n\t\tmarginal = df.groupby(var)['prob'].sum().reset_index()\n\t\tax.bar(marginal[var], marginal['prob'])\n\t\tax.set_xlabel(var.capitalize())\n\t\tax.set_ylabel('Probability')\n\t\tax.set_title(f'Probability Distribution: {var}')\n\t\tax.set_xticks(marginal[var])\n\n\tfig.suptitle(\n\t\tf\"Dice: Skirmish={skirmish_dice}, Assault={assault_dice}, Raid={raid_dice}\",\n\t\tfontsize=15\n\t)\n\tplt.tight_layout(rect=[0, 0.04, 1, 0.96])\n\tplt.show()\n\n# Interactive controls for dashboard\ninteract(\n\tdashboard,\n\tskirmish_dice=IntSlider(min=0, max=6, step=1, value=2, description='Skirmish'),\n\tassault_dice=IntSlider(min=0, max=6, step=1, value=2, description='Assault'),\n\traid_dice=IntSlider(min=0, max=6, step=1, value=2, description='Raid'),\n\txaxis=Dropdown(options=variables, value='hits', description='X Axis:'),\n\tyaxis=Dropdown(options=variables, value='damage', description='Y Axis:')\n)"
  }
 ],
 "metadata": {
  "kernelspec": {
   "display_name": "Python 3",
   "language": "python",
   "name": "python3"
  },
  "language_info": {
   "codemirror_mode": {
    "name": "ipython",
    "version": 3
   },
   "file_extension": ".py",
   "mimetype": "text/x-python",
   "name": "python",
   "nbconvert_exporter": "python",
   "pygments_lexer": "ipython3",
   "version": "3.12.1"
  }
 },
 "nbformat": 4,
 "nbformat_minor": 5
}